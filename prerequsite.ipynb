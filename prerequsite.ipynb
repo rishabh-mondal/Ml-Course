{
 "cells": [
  {
   "cell_type": "markdown",
   "metadata": {},
   "source": [
    "### Q.1 How many multiplications and additions do you need to perform a matrix multiplication between a (n, k) and (k, m) matrix? Explain."
   ]
  },
  {
   "cell_type": "markdown",
   "metadata": {},
   "source": [
    " Matrix multiplication between an $(n, k)$ matrix and a $(k, m)$ matrix results in a new matrix of size $(n, m)$. The number of multiplications and additions involved in this matrix multiplication can be broken down as follows:\n",
    "\n",
    "Multiplications:\n",
    "\n",
    "For each element in the resulting matrix (of size $n x m$), we perform k multiplications.\n",
    "Since the resulting matrix has n x m elements, the total number of multiplications is $n * m * k$.\n",
    "Additions:\n",
    "\n",
    "For each element in the resulting matrix, we perform $k - 1$ additions (as the first multiplication result does not require an addition).\n",
    "Since the resulting matrix has $n x m$ elements, the total number of additions is $n * m * (k - 1)$.\n",
    "Therefore, the total number of multiplications and additions in a matrix multiplication between an $(n, k)$ matrix and a $(k, m)$ matrix is:\n",
    "\n",
    "Multiplications: $n * m * k$\n",
    "\n",
    "Additions: $n * m * (k - 1)$"
   ]
  },
  {
   "cell_type": "markdown",
   "metadata": {},
   "source": [
    "### Write Python code to multiply the above two matrices. Solve using list of lists "
   ]
  },
  {
   "cell_type": "code",
   "execution_count": 59,
   "metadata": {},
   "outputs": [],
   "source": [
    "def matrix_multiply(A, B):\n",
    "    # Get dimensions of matrices A and B\n",
    "    rows_A, cols_A = len(A), len(A[0])\n",
    "    rows_B, cols_B = len(B), len(B[0])\n",
    "\n",
    "    # Check if matrices can be multiplied\n",
    "    if cols_A != rows_B:\n",
    "        print(\"Error: Incompatible matrix dimensions for multiplication\")\n",
    "        return None\n",
    "\n",
    "    # Initialize the result matrix C with zeros\n",
    "    C = [[0 for _ in range(cols_B)] for _ in range(rows_A)]\n",
    "\n",
    "    for i in range(rows_A):\n",
    "        for j in range(cols_B):\n",
    "            for r in range(cols_A):\n",
    "                C[i][j] += A[i][r] * B[r][j]\n",
    "\n",
    "    return C\n"
   ]
  },
  {
   "cell_type": "code",
   "execution_count": 60,
   "metadata": {},
   "outputs": [],
   "source": [
    "# Define matrices A and B\n",
    "A = [[1, 2, 3],\n",
    "     [4, 5, 6]]\n",
    "\n",
    "B = [[7, 8, 9, 10],\n",
    "     [11, 12, 13, 14],\n",
    "     [15, 16, 17, 18]]\n",
    "\n"
   ]
  },
  {
   "cell_type": "code",
   "execution_count": 61,
   "metadata": {},
   "outputs": [
    {
     "name": "stdout",
     "output_type": "stream",
     "text": [
      "[74, 80, 86, 92]\n",
      "[173, 188, 203, 218]\n"
     ]
    }
   ],
   "source": [
    "result_matrix = matrix_multiply(A, B)\n",
    "if result_matrix:\n",
    "    for row in result_matrix:\n",
    "        print(row)"
   ]
  },
  {
   "cell_type": "markdown",
   "metadata": {},
   "source": [
    "### Perform matrix multiplication using NumPy\n"
   ]
  },
  {
   "cell_type": "code",
   "execution_count": 63,
   "metadata": {},
   "outputs": [
    {
     "name": "stdout",
     "output_type": "stream",
     "text": [
      "[[ 74  80  86  92]\n",
      " [173 188 203 218]]\n"
     ]
    }
   ],
   "source": [
    "import numpy as np   \n",
    "result_matrix = np.dot(A, B)\n",
    "print(result_matrix)"
   ]
  },
  {
   "cell_type": "code",
   "execution_count": 64,
   "metadata": {},
   "outputs": [
    {
     "name": "stdout",
     "output_type": "stream",
     "text": [
      "Execution time for manual implementation: 7.323859 seconds\n",
      "Execution time for NumPy implementation: 0.007304 seconds\n"
     ]
    }
   ],
   "source": [
    "\n",
    "import timeit\n",
    "matrix_A = np.random.rand(100, 50)\n",
    "matrix_B = np.random.rand(50, 200)\n",
    "\n",
    "def matrix_multiply_numpy(matrix1, matrix2):\n",
    "    return np.dot(matrix1, matrix2)\n",
    "\n",
    "# Measure execution time for the manual implementation\n",
    "time_lists = timeit.timeit(lambda: matrix_multiply(matrix_A.tolist(), matrix_B.tolist()), number=100)\n",
    "\n",
    "# Measure execution time for the NumPy implementation\n",
    "time_numpy = timeit.timeit(lambda: matrix_multiply_numpy(matrix_A, matrix_B), number=100)\n",
    "\n",
    "# Print the execution times\n",
    "print(f\"Execution time for manual implementation: {time_lists:.6f} seconds\")\n",
    "print(f\"Execution time for NumPy implementation: {time_numpy:.6f} seconds\")"
   ]
  },
  {
   "cell_type": "markdown",
   "metadata": {},
   "source": [
    "NumPy is highly optimized for numerical operations, and its matrix multiplication functions are implemented in low-level languages like C and Fortran. As a result, NumPy operations tend to be significantly faster than equivalent operations performed using pure Python, especially for large matrices."
   ]
  },
  {
   "cell_type": "markdown",
   "metadata": {},
   "source": [
    "Q.3 .Finding the highest element in a list requires one pass of the array."
   ]
  },
  {
   "cell_type": "code",
   "execution_count": 2,
   "metadata": {},
   "outputs": [],
   "source": [
    "def find_max_element(a):\n",
    "    if not a:\n",
    "        return None  \n",
    "\n",
    "    max_element = a[0]  \n",
    "\n",
    "    for element in a[1:]:\n",
    "        if element > max_element:\n",
    "            max_element = element  \n",
    "    return max_element\n"
   ]
  },
  {
   "cell_type": "code",
   "execution_count": 24,
   "metadata": {},
   "outputs": [
    {
     "name": "stdout",
     "output_type": "stream",
     "text": [
      "The max of the array is: 8\n"
     ]
    }
   ],
   "source": [
    "example_array = [5, 2, 8, 1, 7, 3, 6, 4]\n",
    "result_max = find_max_element(example_array)\n",
    "print(f\"The max of the array is: {result_max}\")"
   ]
  },
  {
   "cell_type": "markdown",
   "metadata": {},
   "source": [
    "Part 2 :Finding the second highest element requires 2 passes of the the array."
   ]
  },
  {
   "cell_type": "code",
   "execution_count": 11,
   "metadata": {},
   "outputs": [
    {
     "name": "stdout",
     "output_type": "stream",
     "text": [
      "The second max element of the array is: 7\n"
     ]
    }
   ],
   "source": [
    "def find_second_max_element(a):\n",
    "    first_max_element=find_max_element(a)\n",
    "    second_max_element=a[0]\n",
    "    for element in a[1:]:\n",
    "        if element>second_max_element and element<first_max_element:\n",
    "            second_max_element=element\n",
    "    return second_max_element\n",
    "\n",
    "result_second_max=find_second_max_element(example_array)\n",
    "print(f\"The second max element of the array is: {result_second_max}\")"
   ]
  },
  {
   "cell_type": "code",
   "execution_count": 25,
   "metadata": {},
   "outputs": [],
   "source": [
    "def find_median_twopass(a): \n",
    "    n=len(a)\n",
    "    # print(n)\n",
    "    a=sorted(a)\n",
    "    if n%2 == 0:\n",
    "        a=a[0:(n//2)+1]\n",
    "        first_max_element = find_max_element(a)\n",
    "        second_max_element = find_second_max_element(a)\n",
    "        median=(first_max_element+second_max_element)/2\n",
    "\n",
    "    else:\n",
    "        a=a[0:(n//2)+1]\n",
    "        max_element=find_max_element(a)\n",
    "        median=max_element        \n",
    "\n",
    "    return median   "
   ]
  },
  {
   "cell_type": "code",
   "execution_count": 26,
   "metadata": {},
   "outputs": [
    {
     "name": "stdout",
     "output_type": "stream",
     "text": [
      "The median of the array is: 4.5\n"
     ]
    }
   ],
   "source": [
    "result_median=find_median_twopass(example_array)\n",
    "print(f\"The median of the array is: {result_median}\")"
   ]
  },
  {
   "cell_type": "markdown",
   "metadata": {},
   "source": [
    "### Using this method, what is the time complexity of finding the median of the array? "
   ]
  },
  {
   "cell_type": "markdown",
   "metadata": {},
   "source": [
    "\n",
    "The time complexity of the find_median program you provided is influenced by the time complexities of the functions it calls, specifically sorted(a), find_max_element(a), and find_second_max_element(a).\n",
    "\n",
    "Let's analyze the time complexity step by step:\n",
    "\n",
    "sorted(a): This function uses an efficient sorting algorithm. Typically, the time complexity of sorting algorithms is O(n log n), where n is the length of the array.\n",
    "\n",
    "find_max_element(a): This function iterates through the array once, finding the maximum element. Therefore, its time complexity is O(n), where n is the length of the array.\n",
    "\n",
    "find_second_max_element(a): This function also iterates through the array once, finding the second maximum element. Therefore, its time complexity is O(n), where n is the length of the array.\n",
    "\n",
    "Additional operations in the code are constant time.\n",
    "\n",
    "Therefore, the overall time complexity of the find_median program is O(n log n), where n is the length of the array."
   ]
  },
  {
   "cell_type": "markdown",
   "metadata": {},
   "source": [
    "### Can you suggest a better method? "
   ]
  },
  {
   "cell_type": "markdown",
   "metadata": {},
   "source": [
    "A more efficient method for finding the median is to use an algorithm called QuickSelect. QuickSelect is a variation of the QuickSort algorithm and is specifically designed for finding the k-th smallest (or largest) element in an unordered list."
   ]
  },
  {
   "cell_type": "code",
   "execution_count": 27,
   "metadata": {},
   "outputs": [],
   "source": [
    "def partition(arr, low, high):\n",
    "    pivot = arr[high]\n",
    "    i = low - 1\n",
    "\n",
    "    for j in range(low, high):\n",
    "        if arr[j] <= pivot:\n",
    "            i += 1\n",
    "            arr[i], arr[j] = arr[j], arr[i]\n",
    "\n",
    "    arr[i + 1], arr[high] = arr[high], arr[i + 1]\n",
    "    return i + 1\n",
    "\n",
    "\n"
   ]
  },
  {
   "cell_type": "code",
   "execution_count": 28,
   "metadata": {},
   "outputs": [],
   "source": [
    "def quick_select(arr, low, high, k):\n",
    "    if low <= high:\n",
    "        partition_index = partition(arr, low, high)\n",
    "\n",
    "        if partition_index == k:\n",
    "            return arr[partition_index]\n",
    "        elif partition_index < k:\n",
    "            return quick_select(arr, partition_index + 1, high, k)\n",
    "        else:\n",
    "            return quick_select(arr, low, partition_index - 1, k)\n"
   ]
  },
  {
   "cell_type": "code",
   "execution_count": 29,
   "metadata": {},
   "outputs": [],
   "source": [
    "def find_median_quick_select(arr):\n",
    "    n = len(arr)\n",
    "    if n % 2 == 1:\n",
    "        # For an odd number of elements, return the middle element\n",
    "        return quick_select(arr, 0, n - 1, n // 2)\n",
    "    else:\n",
    "        # For an even number of elements, return the average of the two middle elements\n",
    "        middle1 = quick_select(arr, 0, n - 1, n // 2 - 1)\n",
    "        middle2 = quick_select(arr, 0, n - 1, n // 2)\n",
    "        return (middle1 + middle2) / 2"
   ]
  },
  {
   "cell_type": "code",
   "execution_count": 30,
   "metadata": {},
   "outputs": [
    {
     "name": "stdout",
     "output_type": "stream",
     "text": [
      "The median of the array is: 4.5\n"
     ]
    }
   ],
   "source": [
    "example_array = [5, 2, 8, 1, 7, 3, 6, 4]\n",
    "\n",
    "# Find the median\n",
    "result_median = find_median_quick_select(example_array)\n",
    "\n",
    "# Display the result\n",
    "print(f\"The median of the array is: {result_median}\")"
   ]
  },
  {
   "cell_type": "markdown",
   "metadata": {},
   "source": [
    "QuickSelect is designed to efficiently find the k-th smallest (or largest) element in an unordered list without the need to fully sort the entire list. Its average-case time complexity is O(n) because, on average, it reduces the problem size by half in each recursive call"
   ]
  },
  {
   "cell_type": "markdown",
   "metadata": {},
   "source": [
    "### Can you implement both these methods in Python and compare against numpy.median routine in terms of time?\n"
   ]
  },
  {
   "cell_type": "code",
   "execution_count": 31,
   "metadata": {},
   "outputs": [
    {
     "name": "stdout",
     "output_type": "stream",
     "text": [
      "Time taken for QuickSelect method: 0.002233 seconds\n",
      "Time taken for Two-pass method: 0.002092 seconds\n",
      "Time taken for NumPy median routine: 0.025179 seconds\n"
     ]
    }
   ],
   "source": [
    "import numpy as np\n",
    "import timeit\n",
    "def compare_methods(arr):\n",
    "    time_quickselect = timeit.timeit(lambda: find_median_quick_select(arr.copy()), number=1000)\n",
    "    time_twopass = timeit.timeit(lambda: find_median_twopass(arr.copy()), number=1000)\n",
    "    time_numpy = timeit.timeit(lambda: np.median(arr), number=1000)\n",
    "\n",
    "    print(f\"Time taken for QuickSelect method: {time_quickselect:.6f} seconds\")\n",
    "    print(f\"Time taken for Two-pass method: {time_twopass:.6f} seconds\")\n",
    "    print(f\"Time taken for NumPy median routine: {time_numpy:.6f} seconds\")\n",
    "\n",
    "# Example array\n",
    "example_array = [5, 2, 8, 1, 7, 3, 6, 4]\n",
    "\n",
    "# Compare methods\n",
    "compare_methods(example_array)"
   ]
  },
  {
   "cell_type": "markdown",
   "metadata": {},
   "source": [
    "### Q.4Find the gradient of the following functions:  $f(x, y) = x^2y + y^3\\sin(x)$."
   ]
  },
  {
   "cell_type": "markdown",
   "metadata": {},
   "source": [
    "\n",
    "\n",
    "The partial derivatives are given by:\n",
    "\n",
    "1. Partial derivative with respect to $x$:\n",
    "$$\n",
    "\\frac{\\partial f}{\\partial x} = 2xy + y^3\\cos(x)\n",
    "$$\n",
    "2. Partial derivative with respect to $y$:\n",
    "$$\n",
    "\\frac{\\partial f}{\\partial y} = x^2 + 3y^2\\sin(x)\n",
    "$$\n",
    "\n",
    "The gradient vector $\\nabla f$ is given by:\n",
    "$$\n",
    "\\nabla f = \\left( \\frac{\\partial f}{\\partial x}, \\frac{\\partial f}{\\partial y} \\right) = \\left(2xy + y^3\\cos(x), x^2 + 3y^2\\sin(x)\\right)\n",
    "$$"
   ]
  },
  {
   "cell_type": "markdown",
   "metadata": {},
   "source": [
    "### Q.5 Use JAX to confirm the gradient evaluated by your method matches the analytical solution corresponding to a few random values of x and y"
   ]
  },
  {
   "cell_type": "code",
   "execution_count": 1,
   "metadata": {},
   "outputs": [],
   "source": [
    "import jax\n",
    "import jax.numpy as jnp\n",
    "\n",
    "def f(x, y):\n",
    "    return x**2 * y + y**3 * jnp.sin(x)\n"
   ]
  },
  {
   "cell_type": "code",
   "execution_count": 2,
   "metadata": {},
   "outputs": [],
   "source": [
    "# Define the analytical gradients\n",
    "def analytical_gradients(x, y):\n",
    "    df_dx = 2 * x * y + y**3 * jnp.cos(x)\n",
    "    df_dy = x**2 + 3 * y**2 * jnp.sin(x)\n",
    "    return df_dx, df_dy"
   ]
  },
  {
   "cell_type": "code",
   "execution_count": 11,
   "metadata": {},
   "outputs": [],
   "source": [
    "def gradient_jax(f, x, y):\n",
    "    return jnp.array([jax.grad(f, 0)(x[i], y[i]) for i in range(len(x))]), \\\n",
    "           jnp.array([jax.grad(f, 1)(x[i], y[i]) for i in range(len(y))])\n",
    "\n"
   ]
  },
  {
   "cell_type": "code",
   "execution_count": 12,
   "metadata": {},
   "outputs": [
    {
     "name": "stdout",
     "output_type": "stream",
     "text": [
      "[96.549484 31.810823 63.48648 ]\n",
      "[57.070972 26.23108  88.988304]\n"
     ]
    }
   ],
   "source": [
    "# Compare the gradients for random values of x and y\n",
    "random_x = jax.random.uniform(jax.random.PRNGKey(0), shape=(3,), minval=0.5, maxval=100.0)\n",
    "random_y = jax.random.uniform(jax.random.PRNGKey(1), shape=(3,), minval=0.5, maxval=100.0)\n",
    "analytical_gradients_result = analytical_gradients(random_x, random_y)\n",
    "print(random_x)\n",
    "print(random_y)"
   ]
  },
  {
   "cell_type": "code",
   "execution_count": 13,
   "metadata": {},
   "outputs": [
    {
     "name": "stdout",
     "output_type": "stream",
     "text": [
      "Point 1:\n",
      "Analytical Gradient: (-113066.9140625, 16597.1953125)\n",
      "\n",
      "Point 2:\n",
      "Analytical Gradient: (18328.568359375, 1806.056396484375)\n",
      "\n",
      "Point 3:\n",
      "Analytical Gradient: (570312.75, 18495.1640625)\n",
      "\n"
     ]
    }
   ],
   "source": [
    "for i in range(3):\n",
    "    print(f\"Point {i + 1}:\")\n",
    "    print(f\"Analytical Gradient: ({analytical_gradients_result[0][i]}, {analytical_gradients_result[1][i]})\")\n",
    "    print()"
   ]
  },
  {
   "cell_type": "code",
   "execution_count": 19,
   "metadata": {},
   "outputs": [
    {
     "name": "stdout",
     "output_type": "stream",
     "text": [
      "Point 1:\n",
      "JAX Gradient for x: -113066.9140625\n",
      "JAX Gradient for y: 16597.1953125\n",
      "\n",
      "Point 2:\n",
      "JAX Gradient for x: 18328.568359375\n",
      "JAX Gradient for y: 1806.056396484375\n",
      "\n",
      "Point 3:\n",
      "JAX Gradient for x: 570312.75\n",
      "JAX Gradient for y: 18495.1640625\n",
      "\n"
     ]
    }
   ],
   "source": [
    "jax_gradients_result_x, jax_gradients_result_y = gradient_jax(f, random_x, random_y)\n",
    "\n",
    "# Print the results\n",
    "for i in range(3):\n",
    "    print(f\"Point {i + 1}:\")\n",
    "    print(f\"JAX Gradient for x: {jax_gradients_result_x[i]}\")\n",
    "    print(f\"JAX Gradient for y: {jax_gradients_result_y[i]}\")\n",
    "    print()\n"
   ]
  },
  {
   "cell_type": "code",
   "execution_count": 25,
   "metadata": {},
   "outputs": [
    {
     "name": "stdout",
     "output_type": "stream",
     "text": [
      "Analytical Gradient for x: 2*x*y + y**3*cos(x)\n",
      "Analytical Gradient for y: x**2 + 3*y**2*sin(x)\n",
      "Point 1:\n",
      "Analytical Gradient: (-113066.9140625, 16597.1953125)\n",
      "Analytical Gradient for x using sympy: -113066.902970639\n",
      "Analytical Gradient for y using sympy: 16597.1946066919\n",
      "\n",
      "Point 2:\n",
      "Analytical Gradient: (18328.568359375, 1806.056396484375)\n",
      "Analytical Gradient for x using sympy: 18328.5661072909\n",
      "Analytical Gradient for y using sympy: 1806.05640728830\n",
      "\n",
      "Point 3:\n",
      "Analytical Gradient: (570312.75, 18495.1640625)\n",
      "Analytical Gradient for x using sympy: 570312.734894009\n",
      "Analytical Gradient for y using sympy: 18495.1636873592\n",
      "\n"
     ]
    }
   ],
   "source": [
    "import sympy as sp\n",
    "x, y = sp.symbols('x y')\n",
    "\n",
    "f = x**2 * y + y**3 * sp.sin(x)\n",
    "df_dx = sp.diff(f, x)\n",
    "df_dy = sp.diff(f, y)\n",
    "\n",
    "# Print the analytical gradients\n",
    "print(f\"Analytical Gradient for x: {df_dx}\")\n",
    "print(f\"Analytical Gradient for y: {df_dy}\")\n",
    "\n",
    "# Compare the analytical gradients with JAX result\n",
    "for i in range(3):\n",
    "    print(f\"Point {i + 1}:\")\n",
    "    print(f\"Analytical Gradient: ({analytical_gradients_result[0][i]}, {analytical_gradients_result[1][i]})\")\n",
    "    print(f\"Analytical Gradient for x using sympy: {df_dx.evalf(subs={x: random_x[i], y: random_y[i]})}\")\n",
    "    print(f\"Analytical Gradient for y using sympy: {df_dy.evalf(subs={x: random_x[i], y: random_y[i]})}\")\n",
    "    print()\n"
   ]
  },
  {
   "cell_type": "markdown",
   "metadata": {},
   "source": [
    "### Q.9 Using matplotlib plot the following functions on the domain: $x = 0.5$ to $100.0$ in steps of $0.5$."
   ]
  },
  {
   "cell_type": "code",
   "execution_count": 3,
   "metadata": {},
   "outputs": [
    {
     "data": {
      "image/png": "[encoded data removed]",
      "text/plain": [
       "<Figure size 640x480 with 1 Axes>"
      ]
     },
     "metadata": {},
     "output_type": "display_data"
    }
   ],
   "source": [
    "import matplotlib.pyplot as plt\n",
    "\n",
    "x_values = np.arange(0.5, 100.0, 0.5)\n",
    "\n",
    "y_values = x_values\n",
    "plt.plot(x_values, y_values, label='$y = x$')\n",
    "plt.xlabel('x')\n",
    "plt.ylabel('y')\n",
    "plt.title('Plot of $y = x$')\n",
    "plt.legend();\n"
   ]
  },
  {
   "cell_type": "code",
   "execution_count": 4,
   "metadata": {},
   "outputs": [
    {
     "data": {
      "image/png": "[encoded data removed]",
      "text/plain": [
       "<Figure size 640x480 with 1 Axes>"
      ]
     },
     "metadata": {},
     "output_type": "display_data"
    }
   ],
   "source": [
    "x_values = np.arange(0.5, 100.0, 0.5)\n",
    "def squared_function(x):\n",
    "    return x**2\n",
    "y_values = squared_function(x_values)\n",
    "plt.plot(x_values, y_values, label='$y = x^2$')\n",
    "plt.xlabel('x')\n",
    "plt.ylabel('y')\n",
    "plt.title('Plot of $y = x^2$')\n",
    "plt.legend();"
   ]
  },
  {
   "cell_type": "code",
   "execution_count": 5,
   "metadata": {},
   "outputs": [
    {
     "data": {
      "image/png": "[encoded data removed]",
      "text/plain": [
       "<Figure size 640x480 with 1 Axes>"
      ]
     },
     "metadata": {},
     "output_type": "display_data"
    }
   ],
   "source": [
    "def my_function(x):\n",
    "    return x**3 / 100\n",
    "x_values = np.arange(0.5, 100.5, 0.5)\n",
    "y_values = my_function(x_values)\n",
    "plt.plot(x_values, y_values, label=r'$y = \\frac{x^3}{100}$')\n",
    "plt.title('Plot of $y = \\\\frac{x^3}{100}$')\n",
    "plt.xlabel('x')\n",
    "plt.ylabel('y')\n",
    "plt.legend();"
   ]
  },
  {
   "cell_type": "code",
   "execution_count": 6,
   "metadata": {},
   "outputs": [
    {
     "data": {
      "image/png": "[encoded data removed]",
      "text/plain": [
       "<Figure size 640x480 with 1 Axes>"
      ]
     },
     "metadata": {},
     "output_type": "display_data"
    }
   ],
   "source": [
    "x_values = np.arange(0.5, 100.5, 0.5)\n",
    "y_values = np.sin(x_values)\n",
    "plt.plot(x_values, y_values, label=r'$y = \\sin(x)$')\n",
    "plt.xlabel('x')\n",
    "plt.ylabel('y')\n",
    "plt.title('Plot of $y = \\sin(x)$')\n",
    "plt.legend();\n"
   ]
  },
  {
   "cell_type": "code",
   "execution_count": 7,
   "metadata": {},
   "outputs": [
    {
     "data": {
      "image/png": "[encoded data removed]",
      "text/plain": [
       "<Figure size 640x480 with 1 Axes>"
      ]
     },
     "metadata": {},
     "output_type": "display_data"
    }
   ],
   "source": [
    "def func(x):\n",
    "    return np.sin(x) / x\n",
    "x_values = np.arange(0.5, 100.5, 0.5)\n",
    "y_values = func(x_values)\n",
    "plt.plot(x_values, y_values, label=r'$\\frac{\\sin(x)}{x}$')\n",
    "plt.xlabel('x')\n",
    "plt.ylabel('y')\n",
    "plt.title('Plot of $y = \\\\frac{\\\\sin(x)}{x}$')\n",
    "plt.legend();"
   ]
  },
  {
   "cell_type": "code",
   "execution_count": 8,
   "metadata": {},
   "outputs": [
    {
     "data": {
      "image/png": "[encoded data removed]",
      "text/plain": [
       "<Figure size 640x480 with 1 Axes>"
      ]
     },
     "metadata": {},
     "output_type": "display_data"
    }
   ],
   "source": [
    "x_values = np.arange(0.5, 100.5, 0.5)\n",
    "y_values = np.log(x_values)\n",
    "plt.plot(x_values, y_values, label=r'$y = \\log(x)$')\n",
    "plt.xlabel('x')\n",
    "plt.ylabel('y')\n",
    "plt.title('Plot of $y = \\log(x)$')\n",
    "plt.legend();\n"
   ]
  },
  {
   "cell_type": "code",
   "execution_count": 9,
   "metadata": {},
   "outputs": [
    {
     "data": {
      "image/png": "[encoded data removed]",
      "text/plain": [
       "<Figure size 640x480 with 1 Axes>"
      ]
     },
     "metadata": {},
     "output_type": "display_data"
    }
   ],
   "source": [
    "def exponential_function(x):\n",
    "    return np.exp(x)\n",
    "x_values = np.arange(0.5, 100.5, 0.5)\n",
    "y_values = exponential_function(x_values)\n",
    "plt.plot(x_values, y_values, label='$e^x$')\n",
    "plt.xlabel('x')\n",
    "plt.ylabel('y')\n",
    "plt.title('Plot of $y = e^x$')\n",
    "plt.legend();\n"
   ]
  },
  {
   "cell_type": "markdown",
   "metadata": {},
   "source": [
    "### Q.12 Write a small piece of code to explain broadcasting in numpy.\n",
    "\n"
   ]
  },
  {
   "cell_type": "code",
   "execution_count": 26,
   "metadata": {},
   "outputs": [
    {
     "name": "stdout",
     "output_type": "stream",
     "text": [
      "Array A:\n",
      "[[1 2 3]\n",
      " [4 5 6]]\n",
      "\n",
      "Array B:\n",
      "[10 20 30]\n",
      "\n",
      "Result of A + B (broadcasting):\n",
      "[[11 22 33]\n",
      " [14 25 36]]\n"
     ]
    }
   ],
   "source": [
    "A = np.array([[1, 2, 3],\n",
    "              [4, 5, 6]])\n",
    "\n",
    "B = np.array([10, 20, 30])\n",
    "\n",
    "result = A + B\n",
    "print(\"Array A:\")\n",
    "print(A)\n",
    "print(\"\\nArray B:\")\n",
    "print(B)\n",
    "print(\"\\nResult of A + B (broadcasting):\")\n",
    "print(result)\n"
   ]
  },
  {
   "cell_type": "markdown",
   "metadata": {},
   "source": [
    "### Q 13. Write a function to compute the argmin of a numpy array. The function should take a numpy array as input and return the index of the minimum element. You can use the np.argmin function to verify your solution."
   ]
  },
  {
   "cell_type": "code",
   "execution_count": 28,
   "metadata": {},
   "outputs": [],
   "source": [
    "import numpy as np\n",
    "\n",
    "def custom_argmin(arr):\n",
    "    if arr.size == 0:\n",
    "        raise ValueError(\"Input array is empty\")\n",
    "    min_value = arr[0]\n",
    "    min_index = 0\n",
    "    for i, value in enumerate(arr):\n",
    "        if value < min_value:\n",
    "            min_value = value\n",
    "            min_index = i\n",
    "\n",
    "    return min_index\n",
    "\n"
   ]
  },
  {
   "cell_type": "code",
   "execution_count": 30,
   "metadata": {},
   "outputs": [
    {
     "name": "stdout",
     "output_type": "stream",
     "text": [
      "Array: [3 1 4 1 5 9 2 6 5 3 5]\n",
      "Custom argmin result: 1\n",
      "NumPy argmin result: 1\n"
     ]
    }
   ],
   "source": [
    "arr = np.array([3, 1, 4, 1, 5, 9, 2, 6, 5, 3, 5])\n",
    "custom_min_index = custom_argmin(arr)\n",
    "numpy_min_index = np.argmin(arr)\n",
    "print(\"Array:\", arr)\n",
    "print(\"Custom argmin result:\", custom_min_index)\n",
    "print(\"NumPy argmin result:\", numpy_min_index)\n"
   ]
  },
  {
   "cell_type": "markdown",
   "metadata": {},
   "source": [
    "Q.10 Using numpy generate a matrix of size 20X5 containing random numbers drawn uniformly from the range of 1 to 2."
   ]
  },
  {
   "cell_type": "code",
   "execution_count": 32,
   "metadata": {},
   "outputs": [
    {
     "name": "stdout",
     "output_type": "stream",
     "text": [
      "[[1.37454012 1.95071431 1.73199394 1.59865848 1.15601864]\n",
      " [1.15599452 1.05808361 1.86617615 1.60111501 1.70807258]\n",
      " [1.02058449 1.96990985 1.83244264 1.21233911 1.18182497]\n",
      " [1.18340451 1.30424224 1.52475643 1.43194502 1.29122914]\n",
      " [1.61185289 1.13949386 1.29214465 1.36636184 1.45606998]\n",
      " [1.78517596 1.19967378 1.51423444 1.59241457 1.04645041]\n",
      " [1.60754485 1.17052412 1.06505159 1.94888554 1.96563203]\n",
      " [1.80839735 1.30461377 1.09767211 1.68423303 1.44015249]\n",
      " [1.12203823 1.49517691 1.03438852 1.9093204  1.25877998]\n",
      " [1.66252228 1.31171108 1.52006802 1.54671028 1.18485446]\n",
      " [1.96958463 1.77513282 1.93949894 1.89482735 1.59789998]\n",
      " [1.92187424 1.0884925  1.19598286 1.04522729 1.32533033]\n",
      " [1.38867729 1.27134903 1.82873751 1.35675333 1.28093451]\n",
      " [1.54269608 1.14092422 1.80219698 1.07455064 1.98688694]\n",
      " [1.77224477 1.19871568 1.00552212 1.81546143 1.70685734]\n",
      " [1.72900717 1.77127035 1.07404465 1.35846573 1.11586906]\n",
      " [1.86310343 1.62329813 1.33089802 1.06355835 1.31098232]\n",
      " [1.32518332 1.72960618 1.63755747 1.88721274 1.47221493]\n",
      " [1.11959425 1.71324479 1.76078505 1.5612772  1.77096718]\n",
      " [1.4937956  1.52273283 1.42754102 1.02541913 1.10789143]]\n"
     ]
    }
   ],
   "source": [
    "np.random.seed(42)\n",
    "random_matrix = np.random.uniform(1, 2, size=(20, 5))\n",
    "print(random_matrix)\n"
   ]
  },
  {
   "cell_type": "markdown",
   "metadata": {},
   "source": [
    "### Using Pandas create a dataframe out of this matrix. Name the columns of the dataframe as “a”, “b”, “c”, “d”, “e”."
   ]
  },
  {
   "cell_type": "code",
   "execution_count": 34,
   "metadata": {},
   "outputs": [
    {
     "name": "stdout",
     "output_type": "stream",
     "text": [
      "           a         b         c         d         e\n",
      "0   1.374540  1.950714  1.731994  1.598658  1.156019\n",
      "1   1.155995  1.058084  1.866176  1.601115  1.708073\n",
      "2   1.020584  1.969910  1.832443  1.212339  1.181825\n",
      "3   1.183405  1.304242  1.524756  1.431945  1.291229\n",
      "4   1.611853  1.139494  1.292145  1.366362  1.456070\n",
      "5   1.785176  1.199674  1.514234  1.592415  1.046450\n",
      "6   1.607545  1.170524  1.065052  1.948886  1.965632\n",
      "7   1.808397  1.304614  1.097672  1.684233  1.440152\n",
      "8   1.122038  1.495177  1.034389  1.909320  1.258780\n",
      "9   1.662522  1.311711  1.520068  1.546710  1.184854\n",
      "10  1.969585  1.775133  1.939499  1.894827  1.597900\n",
      "11  1.921874  1.088493  1.195983  1.045227  1.325330\n",
      "12  1.388677  1.271349  1.828738  1.356753  1.280935\n",
      "13  1.542696  1.140924  1.802197  1.074551  1.986887\n",
      "14  1.772245  1.198716  1.005522  1.815461  1.706857\n",
      "15  1.729007  1.771270  1.074045  1.358466  1.115869\n",
      "16  1.863103  1.623298  1.330898  1.063558  1.310982\n",
      "17  1.325183  1.729606  1.637557  1.887213  1.472215\n",
      "18  1.119594  1.713245  1.760785  1.561277  1.770967\n",
      "19  1.493796  1.522733  1.427541  1.025419  1.107891\n"
     ]
    }
   ],
   "source": [
    "import pandas as pd\n",
    "column_names = [\"a\", \"b\", \"c\", \"d\", \"e\"]\n",
    "df = pd.DataFrame(random_matrix, columns=column_names)\n",
    "print(df)"
   ]
  },
  {
   "cell_type": "markdown",
   "metadata": {},
   "source": [
    "### Find the column with the highest standard deviation."
   ]
  },
  {
   "cell_type": "code",
   "execution_count": 36,
   "metadata": {},
   "outputs": [
    {
     "name": "stdout",
     "output_type": "stream",
     "text": [
      "The column with the highest standard deviation is: c\n"
     ]
    }
   ],
   "source": [
    "max_std_column = df.std().idxmax()\n",
    "print(f\"The column with the highest standard deviation is: {max_std_column}\")"
   ]
  },
  {
   "cell_type": "markdown",
   "metadata": {},
   "source": [
    "### Find the row with the lowest mean"
   ]
  },
  {
   "cell_type": "code",
   "execution_count": 37,
   "metadata": {},
   "outputs": [
    {
     "name": "stdout",
     "output_type": "stream",
     "text": [
      "The row with the lowest mean is: 11\n"
     ]
    }
   ],
   "source": [
    "min_mean_row = df.mean(axis=1).idxmin()\n",
    "print(f\"The row with the lowest mean is: {min_mean_row}\")"
   ]
  },
  {
   "cell_type": "markdown",
   "metadata": {},
   "source": [
    "### Q11. Add a new column to the dataframe called “f” which is the sum of the columns “a”, “b”, “c”, “d”, “e”."
   ]
  },
  {
   "cell_type": "code",
   "execution_count": 38,
   "metadata": {},
   "outputs": [
    {
     "name": "stdout",
     "output_type": "stream",
     "text": [
      "           a         b         c         d         e         f\n",
      "0   1.374540  1.950714  1.731994  1.598658  1.156019  7.811925\n",
      "1   1.155995  1.058084  1.866176  1.601115  1.708073  7.389442\n",
      "2   1.020584  1.969910  1.832443  1.212339  1.181825  7.217101\n",
      "3   1.183405  1.304242  1.524756  1.431945  1.291229  6.735577\n",
      "4   1.611853  1.139494  1.292145  1.366362  1.456070  6.865923\n",
      "5   1.785176  1.199674  1.514234  1.592415  1.046450  7.137949\n",
      "6   1.607545  1.170524  1.065052  1.948886  1.965632  7.757638\n",
      "7   1.808397  1.304614  1.097672  1.684233  1.440152  7.335069\n",
      "8   1.122038  1.495177  1.034389  1.909320  1.258780  6.819704\n",
      "9   1.662522  1.311711  1.520068  1.546710  1.184854  7.225866\n",
      "10  1.969585  1.775133  1.939499  1.894827  1.597900  9.176944\n",
      "11  1.921874  1.088493  1.195983  1.045227  1.325330  6.576907\n",
      "12  1.388677  1.271349  1.828738  1.356753  1.280935  7.126452\n",
      "13  1.542696  1.140924  1.802197  1.074551  1.986887  7.547255\n",
      "14  1.772245  1.198716  1.005522  1.815461  1.706857  7.498801\n",
      "15  1.729007  1.771270  1.074045  1.358466  1.115869  7.048657\n",
      "16  1.863103  1.623298  1.330898  1.063558  1.310982  7.191840\n",
      "17  1.325183  1.729606  1.637557  1.887213  1.472215  8.051775\n",
      "18  1.119594  1.713245  1.760785  1.561277  1.770967  7.925868\n",
      "19  1.493796  1.522733  1.427541  1.025419  1.107891  6.577380\n"
     ]
    }
   ],
   "source": [
    "# Add a new column \"f\" which is the sum of columns \"a\" through \"e\"\n",
    "df['f'] = df[['a', 'b', 'c', 'd', 'e']].sum(axis=1)\n",
    "print(df)"
   ]
  },
  {
   "cell_type": "markdown",
   "metadata": {},
   "source": [
    "### Create another column called “g”. The value in the column “g” should be “LT8” if the value in the column “f” is less than 8 and “GT8” otherwise. "
   ]
  },
  {
   "cell_type": "code",
   "execution_count": 39,
   "metadata": {},
   "outputs": [
    {
     "name": "stdout",
     "output_type": "stream",
     "text": [
      "           a         b         c         d         e         f    g\n",
      "0   1.374540  1.950714  1.731994  1.598658  1.156019  7.811925  LT8\n",
      "1   1.155995  1.058084  1.866176  1.601115  1.708073  7.389442  LT8\n",
      "2   1.020584  1.969910  1.832443  1.212339  1.181825  7.217101  LT8\n",
      "3   1.183405  1.304242  1.524756  1.431945  1.291229  6.735577  LT8\n",
      "4   1.611853  1.139494  1.292145  1.366362  1.456070  6.865923  LT8\n",
      "5   1.785176  1.199674  1.514234  1.592415  1.046450  7.137949  LT8\n",
      "6   1.607545  1.170524  1.065052  1.948886  1.965632  7.757638  LT8\n",
      "7   1.808397  1.304614  1.097672  1.684233  1.440152  7.335069  LT8\n",
      "8   1.122038  1.495177  1.034389  1.909320  1.258780  6.819704  LT8\n",
      "9   1.662522  1.311711  1.520068  1.546710  1.184854  7.225866  LT8\n",
      "10  1.969585  1.775133  1.939499  1.894827  1.597900  9.176944  GT8\n",
      "11  1.921874  1.088493  1.195983  1.045227  1.325330  6.576907  LT8\n",
      "12  1.388677  1.271349  1.828738  1.356753  1.280935  7.126452  LT8\n",
      "13  1.542696  1.140924  1.802197  1.074551  1.986887  7.547255  LT8\n",
      "14  1.772245  1.198716  1.005522  1.815461  1.706857  7.498801  LT8\n",
      "15  1.729007  1.771270  1.074045  1.358466  1.115869  7.048657  LT8\n",
      "16  1.863103  1.623298  1.330898  1.063558  1.310982  7.191840  LT8\n",
      "17  1.325183  1.729606  1.637557  1.887213  1.472215  8.051775  GT8\n",
      "18  1.119594  1.713245  1.760785  1.561277  1.770967  7.925868  LT8\n",
      "19  1.493796  1.522733  1.427541  1.025419  1.107891  6.577380  LT8\n"
     ]
    }
   ],
   "source": [
    "# Add a new column \"g\" based on the condition\n",
    "df['g'] = np.where(df['f'] < 8, 'LT8', 'GT8')\n",
    "print(df)"
   ]
  },
  {
   "cell_type": "markdown",
   "metadata": {},
   "source": [
    "### Find the standard deviation of the column “f” for the rows where the value in the column “g” is “LT8” and “GT8” respectively."
   ]
  },
  {
   "cell_type": "code",
   "execution_count": 41,
   "metadata": {},
   "outputs": [
    {
     "name": "stdout",
     "output_type": "stream",
     "text": [
      "Standard Deviation of column 'f' for 'LT8': 0.4025886500663062\n",
      "Standard Deviation of column 'f' for 'GT8': 0.7956146881961926\n"
     ]
    }
   ],
   "source": [
    "# Calculate the standard deviation of column \"f\" for each group\n",
    "std_lt8 = df[df['g'] == 'LT8']['f'].std()\n",
    "std_gt8 = df[df['g'] == 'GT8']['f'].std()\n",
    "\n",
    "# Print the results\n",
    "print(f\"Standard Deviation of column 'f' for 'LT8': {std_lt8}\")\n",
    "print(f\"Standard Deviation of column 'f' for 'GT8': {std_gt8}\")\n"
   ]
  },
  {
   "cell_type": "markdown",
   "metadata": {},
   "source": [
    "### Q 7: Create a Python nested dictionary to represent hierarchical information. We want to store record of students and their marks. Something like:\n",
    "\n",
    "2022\n",
    "Branch 1\n",
    "Roll Number: 1, Name: N, Marks:\n",
    "Maths: 100, English: 70 …\n",
    "Branch 2"
   ]
  },
  {
   "cell_type": "code",
   "execution_count": 44,
   "metadata": {},
   "outputs": [
    {
     "name": "stdout",
     "output_type": "stream",
     "text": [
      "{2022: {'Branch 1': {1: {'Name': 'Student', 'Marks': {'Maths': 68, 'English': 98, 'Science': 88, 'History': 85, 'Art': 94}}, 2: {'Name': 'Student', 'Marks': {'Maths': 84, 'English': 83, 'Science': 72, 'History': 66, 'Art': 95}}, 3: {'Name': 'Student', 'Marks': {'Maths': 79, 'English': 60, 'Science': 67, 'History': 75, 'Art': 73}}, 4: {'Name': 'Student', 'Marks': {'Maths': 71, 'English': 82, 'Science': 74, 'History': 87, 'Art': 93}}, 5: {'Name': 'Student', 'Marks': {'Maths': 61, 'English': 91, 'Science': 82, 'History': 81, 'Art': 84}}}, 'Branch 2': {1: {'Name': 'Student', 'Marks': {'Maths': 81, 'English': 81, 'Science': 65, 'History': 74, 'Art': 96}}, 2: {'Name': 'Student', 'Marks': {'Maths': 92, 'English': 67, 'Science': 64, 'History': 98, 'Art': 63}}, 3: {'Name': 'Student', 'Marks': {'Maths': 65, 'English': 91, 'Science': 89, 'History': 94, 'Art': 99}}, 4: {'Name': 'Student', 'Marks': {'Maths': 75, 'English': 72, 'Science': 89, 'History': 78, 'Art': 76}}, 5: {'Name': 'Student', 'Marks': {'Maths': 78, 'English': 87, 'Science': 85, 'History': 96, 'Art': 85}}}}, 2023: {'Branch 1': {1: {'Name': 'Student', 'Marks': {'Maths': 82, 'English': 68, 'Science': 71, 'History': 60, 'Art': 60}}, 2: {'Name': 'Student', 'Marks': {'Maths': 93, 'English': 91, 'Science': 84, 'History': 99, 'Art': 60}}, 3: {'Name': 'Student', 'Marks': {'Maths': 75, 'English': 98, 'Science': 64, 'History': 81, 'Art': 88}}, 4: {'Name': 'Student', 'Marks': {'Maths': 62, 'English': 71, 'Science': 85, 'History': 75, 'Art': 96}}, 5: {'Name': 'Student', 'Marks': {'Maths': 81, 'English': 88, 'Science': 73, 'History': 87, 'Art': 64}}}, 'Branch 2': {1: {'Name': 'Student', 'Marks': {'Maths': 89, 'English': 64, 'Science': 71, 'History': 75, 'Art': 85}}, 2: {'Name': 'Student', 'Marks': {'Maths': 85, 'English': 80, 'Science': 98, 'History': 95, 'Art': 92}}, 3: {'Name': 'Student', 'Marks': {'Maths': 89, 'English': 96, 'Science': 82, 'History': 69, 'Art': 64}}, 4: {'Name': 'Student', 'Marks': {'Maths': 95, 'English': 93, 'Science': 90, 'History': 69, 'Art': 78}}, 5: {'Name': 'Student', 'Marks': {'Maths': 91, 'English': 60, 'Science': 64, 'History': 63, 'Art': 75}}}}, 2024: {'Branch 1': {1: {'Name': 'Student', 'Marks': {'Maths': 83, 'English': 75, 'Science': 61, 'History': 87, 'Art': 91}}, 2: {'Name': 'Student', 'Marks': {'Maths': 86, 'English': 79, 'Science': 83, 'History': 71, 'Art': 94}}, 3: {'Name': 'Student', 'Marks': {'Maths': 92, 'English': 92, 'Science': 96, 'History': 71, 'Art': 62}}, 4: {'Name': 'Student', 'Marks': {'Maths': 60, 'English': 92, 'Science': 99, 'History': 69, 'Art': 88}}, 5: {'Name': 'Student', 'Marks': {'Maths': 72, 'English': 71, 'Science': 90, 'History': 61, 'Art': 94}}}, 'Branch 2': {1: {'Name': 'Student', 'Marks': {'Maths': 82, 'English': 76, 'Science': 85, 'History': 67, 'Art': 88}}, 2: {'Name': 'Student', 'Marks': {'Maths': 85, 'English': 69, 'Science': 85, 'History': 93, 'Art': 66}}, 3: {'Name': 'Student', 'Marks': {'Maths': 63, 'English': 70, 'Science': 88, 'History': 95, 'Art': 84}}, 4: {'Name': 'Student', 'Marks': {'Maths': 80, 'English': 95, 'Science': 69, 'History': 96, 'Art': 68}}, 5: {'Name': 'Student', 'Marks': {'Maths': 83, 'English': 94, 'Science': 94, 'History': 95, 'Art': 77}}}}, 2025: {'Branch 1': {1: {'Name': 'Student', 'Marks': {'Maths': 98, 'English': 91, 'Science': 83, 'History': 82, 'Art': 91}}, 2: {'Name': 'Student', 'Marks': {'Maths': 96, 'English': 71, 'Science': 72, 'History': 82, 'Art': 84}}, 3: {'Name': 'Student', 'Marks': {'Maths': 94, 'English': 89, 'Science': 76, 'History': 79, 'Art': 84}}, 4: {'Name': 'Student', 'Marks': {'Maths': 81, 'English': 72, 'Science': 78, 'History': 95, 'Art': 71}}, 5: {'Name': 'Student', 'Marks': {'Maths': 78, 'English': 71, 'Science': 68, 'History': 66, 'Art': 87}}}, 'Branch 2': {1: {'Name': 'Student', 'Marks': {'Maths': 73, 'English': 90, 'Science': 78, 'History': 75, 'Art': 64}}, 2: {'Name': 'Student', 'Marks': {'Maths': 94, 'English': 71, 'Science': 84, 'History': 80, 'Art': 95}}, 3: {'Name': 'Student', 'Marks': {'Maths': 82, 'English': 75, 'Science': 98, 'History': 98, 'Art': 73}}, 4: {'Name': 'Student', 'Marks': {'Maths': 90, 'English': 64, 'Science': 94, 'History': 82, 'Art': 88}}, 5: {'Name': 'Student', 'Marks': {'Maths': 70, 'English': 77, 'Science': 71, 'History': 68, 'Art': 69}}}}}\n"
     ]
    }
   ],
   "source": [
    "student_records = {\n",
    "    2022: {\n",
    "        'Branch 1': {\n",
    "            1: {'Name': 'N', 'Marks': {'Maths': 100, 'English': 70}}\n",
    "            # Add more roll numbers and details as needed\n",
    "        },\n",
    "        'Branch 2': {\n",
    "            # Add details for Branch 2\n",
    "        }\n",
    "    },\n",
    "    2023: {\n",
    "        'Branch 1': {\n",
    "            # Add details for Branch 1 in 2023\n",
    "        },\n",
    "        'Branch 2': {\n",
    "            # Add details for Branch 2 in 2023\n",
    "        }\n",
    "    },\n",
    "    2024: {\n",
    "        'Branch 1': {\n",
    "            # Add details for Branch 1 in 2024\n",
    "        },\n",
    "        'Branch 2': {\n",
    "            # Add details for Branch 2 in 2024\n",
    "        }\n",
    "    },\n",
    "    2025: {\n",
    "        'Branch 1': {\n",
    "            # Add details for Branch 1 in 2025\n",
    "        },\n",
    "        'Branch 2': {\n",
    "            # Add details for Branch 2 in 2025\n",
    "        }\n",
    "    }\n",
    "}\n",
    "\n",
    "\n",
    "# Function to generate random student data\n",
    "def generate_random_student_data():\n",
    "    name = 'Student' \n",
    "    subjects = ['Maths', 'English', 'Science', 'History', 'Art']\n",
    "    marks = {subject: np.random.randint(60, 100) for subject in subjects}\n",
    "    return {'Name': name, 'Marks': marks}\n",
    "\n",
    "# Populate the nested dictionary with random data\n",
    "for year in range(2022, 2026):\n",
    "    for branch in ['Branch 1', 'Branch 2']:\n",
    "        student_records[year][branch] = {}\n",
    "        for roll_number in range(1, 6): \n",
    "            student_records[year][branch][roll_number] = generate_random_student_data()\n",
    "\n",
    "print(student_records)\n",
    "\n"
   ]
  },
  {
   "cell_type": "markdown",
   "metadata": {},
   "source": [
    "### Store the same information using Python classes. "
   ]
  },
  {
   "cell_type": "code",
   "execution_count": 53,
   "metadata": {},
   "outputs": [],
   "source": [
    "class Subject:\n",
    "    def __init__(self, name):\n",
    "        self.name = name\n",
    "        self.marks = 0\n",
    "\n",
    "class Student:\n",
    "    def __init__(self, roll_number, name):\n",
    "        self.roll_number = roll_number\n",
    "        self.name = name\n",
    "        self.subjects = {}\n",
    "\n",
    "    def add_subject(self, subject):\n",
    "        self.subjects[subject.name] = subject\n",
    "\n",
    "class Branch:\n",
    "    def __init__(self, name):\n",
    "        self.name = name\n",
    "        self.students = []\n",
    "\n",
    "    def add_student(self, student):\n",
    "        self.students.append(student)\n",
    "\n",
    "class AcademicYear:\n",
    "    def __init__(self, year):\n",
    "        self.year = year\n",
    "        self.branches = []\n",
    "\n",
    "    def add_branch(self, branch):\n",
    "        self.branches.append(branch)\n",
    "\n",
    "class OverallDatabase:\n",
    "    def __init__(self):\n",
    "        self.years = []\n",
    "\n",
    "    def add_year(self, year):\n",
    "        self.years.append(year)\n",
    "       "
   ]
  },
  {
   "cell_type": "code",
   "execution_count": 54,
   "metadata": {},
   "outputs": [],
   "source": [
    "# Generate random data\n",
    "def generate_random_marks():\n",
    "    return np.random.randint(60, 100)"
   ]
  },
  {
   "cell_type": "code",
   "execution_count": 55,
   "metadata": {},
   "outputs": [],
   "source": [
    "# Create instances of classes and store information\n",
    "database = OverallDatabase()\n",
    "\n",
    "for year_number in range(2022, 2026):\n",
    "    academic_year = AcademicYear(year_number)\n",
    "\n",
    "    for branch_name in ['Branch 1', 'Branch 2']:\n",
    "        branch = Branch(branch_name)\n",
    "\n",
    "        for roll_number in range(1, 6):  \n",
    "            student = Student(roll_number, f\"Student_{roll_number}\")\n",
    "            \n",
    "            for subject_name in ['Maths', 'English', 'Science', 'History', 'Art']:\n",
    "                subject = Subject(subject_name)\n",
    "                subject.marks = generate_random_marks()\n",
    "                student.add_subject(subject)\n",
    "\n",
    "            branch.add_student(student)\n",
    "\n",
    "        academic_year.add_branch(branch)\n",
    "\n",
    "    database.add_year(academic_year)"
   ]
  },
  {
   "cell_type": "code",
   "execution_count": 57,
   "metadata": {},
   "outputs": [
    {
     "name": "stdout",
     "output_type": "stream",
     "text": [
      "\n",
      "Year: 2022\n",
      "\n",
      "Branch: Branch 1\n",
      "\n",
      "Student: Student_1, Roll Number: 1\n",
      "Subject: Maths, Marks: 63\n",
      "Subject: English, Marks: 84\n",
      "Subject: Science, Marks: 62\n",
      "Subject: History, Marks: 91\n",
      "Subject: Art, Marks: 62\n",
      "\n",
      "Student: Student_2, Roll Number: 2\n",
      "Subject: Maths, Marks: 86\n",
      "Subject: English, Marks: 88\n",
      "Subject: Science, Marks: 91\n",
      "Subject: History, Marks: 78\n",
      "Subject: Art, Marks: 80\n",
      "\n",
      "Student: Student_3, Roll Number: 3\n",
      "Subject: Maths, Marks: 64\n",
      "Subject: English, Marks: 77\n",
      "Subject: Science, Marks: 87\n",
      "Subject: History, Marks: 81\n",
      "Subject: Art, Marks: 80\n",
      "\n",
      "Student: Student_4, Roll Number: 4\n",
      "Subject: Maths, Marks: 65\n",
      "Subject: English, Marks: 60\n",
      "Subject: Science, Marks: 64\n",
      "Subject: History, Marks: 71\n",
      "Subject: Art, Marks: 85\n",
      "\n",
      "Student: Student_5, Roll Number: 5\n",
      "Subject: Maths, Marks: 93\n",
      "Subject: English, Marks: 73\n",
      "Subject: Science, Marks: 85\n",
      "Subject: History, Marks: 86\n",
      "Subject: Art, Marks: 68\n",
      "\n",
      "Branch: Branch 2\n",
      "\n",
      "Student: Student_1, Roll Number: 1\n",
      "Subject: Maths, Marks: 85\n",
      "Subject: English, Marks: 81\n",
      "Subject: Science, Marks: 89\n",
      "Subject: History, Marks: 76\n",
      "Subject: Art, Marks: 85\n",
      "\n",
      "Student: Student_2, Roll Number: 2\n",
      "Subject: Maths, Marks: 95\n",
      "Subject: English, Marks: 60\n",
      "Subject: Science, Marks: 67\n",
      "Subject: History, Marks: 94\n",
      "Subject: Art, Marks: 74\n",
      "\n",
      "Student: Student_3, Roll Number: 3\n",
      "Subject: Maths, Marks: 81\n",
      "Subject: English, Marks: 73\n",
      "Subject: Science, Marks: 85\n",
      "Subject: History, Marks: 87\n",
      "Subject: Art, Marks: 82\n",
      "\n",
      "Student: Student_4, Roll Number: 4\n",
      "Subject: Maths, Marks: 73\n",
      "Subject: English, Marks: 83\n",
      "Subject: Science, Marks: 61\n",
      "Subject: History, Marks: 85\n",
      "Subject: Art, Marks: 73\n",
      "\n",
      "Student: Student_5, Roll Number: 5\n",
      "Subject: Maths, Marks: 66\n",
      "Subject: English, Marks: 62\n",
      "Subject: Science, Marks: 82\n",
      "Subject: History, Marks: 77\n",
      "Subject: Art, Marks: 97\n",
      "\n",
      "Year: 2023\n",
      "\n",
      "Branch: Branch 1\n",
      "\n",
      "Student: Student_1, Roll Number: 1\n",
      "Subject: Maths, Marks: 94\n",
      "Subject: English, Marks: 74\n",
      "Subject: Science, Marks: 84\n",
      "Subject: History, Marks: 96\n",
      "Subject: Art, Marks: 87\n",
      "\n",
      "Student: Student_2, Roll Number: 2\n",
      "Subject: Maths, Marks: 69\n",
      "Subject: English, Marks: 98\n",
      "Subject: Science, Marks: 76\n",
      "Subject: History, Marks: 98\n",
      "Subject: Art, Marks: 81\n",
      "\n",
      "Student: Student_3, Roll Number: 3\n",
      "Subject: Maths, Marks: 85\n",
      "Subject: English, Marks: 84\n",
      "Subject: Science, Marks: 76\n",
      "Subject: History, Marks: 72\n",
      "Subject: Art, Marks: 79\n",
      "\n",
      "Student: Student_4, Roll Number: 4\n",
      "Subject: Maths, Marks: 84\n",
      "Subject: English, Marks: 63\n",
      "Subject: Science, Marks: 69\n",
      "Subject: History, Marks: 62\n",
      "Subject: Art, Marks: 77\n",
      "\n",
      "Student: Student_5, Roll Number: 5\n",
      "Subject: Maths, Marks: 95\n",
      "Subject: English, Marks: 81\n",
      "Subject: Science, Marks: 93\n",
      "Subject: History, Marks: 67\n",
      "Subject: Art, Marks: 99\n",
      "\n",
      "Branch: Branch 2\n",
      "\n",
      "Student: Student_1, Roll Number: 1\n",
      "Subject: Maths, Marks: 78\n",
      "Subject: English, Marks: 96\n",
      "Subject: Science, Marks: 65\n",
      "Subject: History, Marks: 85\n",
      "Subject: Art, Marks: 93\n",
      "\n",
      "Student: Student_2, Roll Number: 2\n",
      "Subject: Maths, Marks: 65\n",
      "Subject: English, Marks: 96\n",
      "Subject: Science, Marks: 92\n",
      "Subject: History, Marks: 81\n",
      "Subject: Art, Marks: 80\n",
      "\n",
      "Student: Student_3, Roll Number: 3\n",
      "Subject: Maths, Marks: 65\n",
      "Subject: English, Marks: 65\n",
      "Subject: Science, Marks: 63\n",
      "Subject: History, Marks: 89\n",
      "Subject: Art, Marks: 70\n",
      "\n",
      "Student: Student_4, Roll Number: 4\n",
      "Subject: Maths, Marks: 89\n",
      "Subject: English, Marks: 90\n",
      "Subject: Science, Marks: 83\n",
      "Subject: History, Marks: 68\n",
      "Subject: Art, Marks: 62\n",
      "\n",
      "Student: Student_5, Roll Number: 5\n",
      "Subject: Maths, Marks: 90\n",
      "Subject: English, Marks: 99\n",
      "Subject: Science, Marks: 96\n",
      "Subject: History, Marks: 95\n",
      "Subject: Art, Marks: 83\n",
      "\n",
      "Year: 2024\n",
      "\n",
      "Branch: Branch 1\n",
      "\n",
      "Student: Student_1, Roll Number: 1\n",
      "Subject: Maths, Marks: 90\n",
      "Subject: English, Marks: 65\n",
      "Subject: Science, Marks: 61\n",
      "Subject: History, Marks: 79\n",
      "Subject: Art, Marks: 87\n",
      "\n",
      "Student: Student_2, Roll Number: 2\n",
      "Subject: Maths, Marks: 70\n",
      "Subject: English, Marks: 63\n",
      "Subject: Science, Marks: 74\n",
      "Subject: History, Marks: 65\n",
      "Subject: Art, Marks: 89\n",
      "\n",
      "Student: Student_3, Roll Number: 3\n",
      "Subject: Maths, Marks: 97\n",
      "Subject: English, Marks: 61\n",
      "Subject: Science, Marks: 74\n",
      "Subject: History, Marks: 70\n",
      "Subject: Art, Marks: 67\n",
      "\n",
      "Student: Student_4, Roll Number: 4\n",
      "Subject: Maths, Marks: 85\n",
      "Subject: English, Marks: 64\n",
      "Subject: Science, Marks: 65\n",
      "Subject: History, Marks: 85\n",
      "Subject: Art, Marks: 63\n",
      "\n",
      "Student: Student_5, Roll Number: 5\n",
      "Subject: Maths, Marks: 78\n",
      "Subject: English, Marks: 79\n",
      "Subject: Science, Marks: 92\n",
      "Subject: History, Marks: 79\n",
      "Subject: Art, Marks: 71\n",
      "\n",
      "Branch: Branch 2\n",
      "\n",
      "Student: Student_1, Roll Number: 1\n",
      "Subject: Maths, Marks: 60\n",
      "Subject: English, Marks: 85\n",
      "Subject: Science, Marks: 73\n",
      "Subject: History, Marks: 97\n",
      "Subject: Art, Marks: 96\n",
      "\n",
      "Student: Student_2, Roll Number: 2\n",
      "Subject: Maths, Marks: 70\n",
      "Subject: English, Marks: 95\n",
      "Subject: Science, Marks: 72\n",
      "Subject: History, Marks: 62\n",
      "Subject: Art, Marks: 92\n",
      "\n",
      "Student: Student_3, Roll Number: 3\n",
      "Subject: Maths, Marks: 65\n",
      "Subject: English, Marks: 69\n",
      "Subject: Science, Marks: 64\n",
      "Subject: History, Marks: 82\n",
      "Subject: Art, Marks: 69\n",
      "\n",
      "Student: Student_4, Roll Number: 4\n",
      "Subject: Maths, Marks: 61\n",
      "Subject: English, Marks: 72\n",
      "Subject: Science, Marks: 99\n",
      "Subject: History, Marks: 61\n",
      "Subject: Art, Marks: 79\n",
      "\n",
      "Student: Student_5, Roll Number: 5\n",
      "Subject: Maths, Marks: 60\n",
      "Subject: English, Marks: 96\n",
      "Subject: Science, Marks: 68\n",
      "Subject: History, Marks: 76\n",
      "Subject: Art, Marks: 68\n",
      "\n",
      "Year: 2025\n",
      "\n",
      "Branch: Branch 1\n",
      "\n",
      "Student: Student_1, Roll Number: 1\n",
      "Subject: Maths, Marks: 70\n",
      "Subject: English, Marks: 74\n",
      "Subject: Science, Marks: 83\n",
      "Subject: History, Marks: 97\n",
      "Subject: Art, Marks: 94\n",
      "\n",
      "Student: Student_2, Roll Number: 2\n",
      "Subject: Maths, Marks: 89\n",
      "Subject: English, Marks: 90\n",
      "Subject: Science, Marks: 64\n",
      "Subject: History, Marks: 73\n",
      "Subject: Art, Marks: 70\n",
      "\n",
      "Student: Student_3, Roll Number: 3\n",
      "Subject: Maths, Marks: 68\n",
      "Subject: English, Marks: 93\n",
      "Subject: Science, Marks: 71\n",
      "Subject: History, Marks: 94\n",
      "Subject: Art, Marks: 94\n",
      "\n",
      "Student: Student_4, Roll Number: 4\n",
      "Subject: Maths, Marks: 60\n",
      "Subject: English, Marks: 99\n",
      "Subject: Science, Marks: 81\n",
      "Subject: History, Marks: 88\n",
      "Subject: Art, Marks: 67\n",
      "\n",
      "Student: Student_5, Roll Number: 5\n",
      "Subject: Maths, Marks: 70\n",
      "Subject: English, Marks: 96\n",
      "Subject: Science, Marks: 73\n",
      "Subject: History, Marks: 89\n",
      "Subject: Art, Marks: 94\n",
      "\n",
      "Branch: Branch 2\n",
      "\n",
      "Student: Student_1, Roll Number: 1\n",
      "Subject: Maths, Marks: 80\n",
      "Subject: English, Marks: 96\n",
      "Subject: Science, Marks: 64\n",
      "Subject: History, Marks: 78\n",
      "Subject: Art, Marks: 73\n",
      "\n",
      "Student: Student_2, Roll Number: 2\n",
      "Subject: Maths, Marks: 85\n",
      "Subject: English, Marks: 63\n",
      "Subject: Science, Marks: 84\n",
      "Subject: History, Marks: 84\n",
      "Subject: Art, Marks: 77\n",
      "\n",
      "Student: Student_3, Roll Number: 3\n",
      "Subject: Maths, Marks: 99\n",
      "Subject: English, Marks: 67\n",
      "Subject: Science, Marks: 98\n",
      "Subject: History, Marks: 99\n",
      "Subject: Art, Marks: 73\n",
      "\n",
      "Student: Student_4, Roll Number: 4\n",
      "Subject: Maths, Marks: 91\n",
      "Subject: English, Marks: 97\n",
      "Subject: Science, Marks: 92\n",
      "Subject: History, Marks: 82\n",
      "Subject: Art, Marks: 74\n",
      "\n",
      "Student: Student_5, Roll Number: 5\n",
      "Subject: Maths, Marks: 92\n",
      "Subject: English, Marks: 84\n",
      "Subject: Science, Marks: 76\n",
      "Subject: History, Marks: 92\n",
      "Subject: Art, Marks: 61\n"
     ]
    }
   ],
   "source": [
    "for year in database.years:\n",
    "    print(f\"\\nYear: {year.year}\")\n",
    "    for branch in year.branches:\n",
    "        print(f\"\\nBranch: {branch.name}\")\n",
    "        for student in branch.students:\n",
    "            print(f\"\\nStudent: {student.name}, Roll Number: {student.roll_number}\")\n",
    "            for subject_name, subject in student.subjects.items():\n",
    "                print(f\"Subject: {subject_name}, Marks: {subject.marks}\")\n"
   ]
  },
  {
   "cell_type": "code",
   "execution_count": null,
   "metadata": {},
   "outputs": [],
   "source": []
  }
 ],
 "metadata": {
  "kernelspec": {
   "display_name": "torch_env",
   "language": "python",
   "name": "python3"
  },
  "language_info": {
   "codemirror_mode": {
    "name": "ipython",
    "version": 3
   },
   "file_extension": ".py",
   "mimetype": "text/x-python",
   "name": "python",
   "nbconvert_exporter": "python",
   "pygments_lexer": "ipython3",
   "version": "3.11.4"
  }
 },
 "nbformat": 4,
 "nbformat_minor": 2
}
